{
 "cells": [
  {
   "cell_type": "code",
   "execution_count": 1,
   "id": "1ea9c87b",
   "metadata": {},
   "outputs": [],
   "source": [
    "from subprocess import Popen\n",
    "from getpass import getpass\n",
    "import platform\n",
    "import os\n",
    "import shutil\n"
   ]
  },
  {
   "cell_type": "code",
   "execution_count": null,
   "id": "4e8a84e4",
   "metadata": {},
   "outputs": [],
   "source": [
    "# Set account and password, run once before downloading files\n",
    "urs = 'urs.earthdata.nasa.gov'    # Earthdata URL to call for authentication\n",
    "prompts = ['Enter NASA Earthdata Login Username \\n(or create an account at urs.earthdata.nasa.gov): ',\n",
    "           'Enter NASA Earthdata Login Password: ']\n",
    "homeDir = os.path.expanduser(\"~\") + os.sep\n",
    "\n",
    "\n",
    "with open(homeDir + '.netrc', 'w') as file:\n",
    "    file.write('machine {} login {} password {}'.format(urs, getpass(prompt=prompts[0]), getpass(prompt=prompts[1])))\n",
    "    file.close()\n",
    "with open(homeDir + '.urs_cookies', 'w') as file:\n",
    "    file.write('')\n",
    "    file.close()\n",
    "with open(homeDir + '.dodsrc', 'w') as file:\n",
    "    file.write('HTTP.COOKIEJAR={}.urs_cookies\\n'.format(homeDir))\n",
    "    file.write('HTTP.NETRC={}.netrc'.format(homeDir))\n",
    "    file.close()\n",
    "\n",
    "print('Saved .netrc, .urs_cookies, and .dodsrc to:', homeDir)\n",
    "\n",
    "# Set appropriate permissions for Linux/macOS\n",
    "if platform.system() != \"Windows\":\n",
    "    Popen('chmod og-rw ~/.netrc', shell=True)\n",
    "else:\n",
    "    # Copy dodsrc to working directory in Windows  \n",
    "    shutil.copy2(homeDir + '.dodsrc', os.getcwd())\n",
    "    print('Copied .dodsrc to:', os.getcwd())"
   ]
  }
 ],
 "metadata": {
  "kernelspec": {
   "display_name": "ipy",
   "language": "python",
   "name": "py3"
  },
  "language_info": {
   "codemirror_mode": {
    "name": "ipython",
    "version": 3
   },
   "file_extension": ".py",
   "mimetype": "text/x-python",
   "name": "python",
   "nbconvert_exporter": "python",
   "pygments_lexer": "ipython3",
   "version": "3.10.2"
  }
 },
 "nbformat": 4,
 "nbformat_minor": 5
}
